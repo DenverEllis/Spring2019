{
  "nbformat": 4,
  "nbformat_minor": 0,
  "metadata": {
    "kernelspec": {
      "display_name": "Python 3",
      "language": "python",
      "name": "python3"
    },
    "language_info": {
      "codemirror_mode": {
        "name": "ipython",
        "version": 3
      },
      "file_extension": ".py",
      "mimetype": "text/x-python",
      "name": "python",
      "nbconvert_exporter": "python",
      "pygments_lexer": "ipython3",
      "version": "3.7.4"
    },
    "colab": {
      "name": "NaiveBayesWithExample.ipynb",
      "provenance": [],
      "toc_visible": true
    }
  },
  "cells": [
    {
      "cell_type": "markdown",
      "metadata": {
        "id": "yiz9jEa3ITlr",
        "colab_type": "text"
      },
      "source": [
        "## Imports"
      ]
    },
    {
      "cell_type": "code",
      "metadata": {
        "id": "HFKKIuZ5ITl9",
        "colab_type": "code",
        "colab": {}
      },
      "source": [
        "from csv import reader\n",
        "from math import sqrt\n",
        "from math import pi\n",
        "from math import exp"
      ],
      "execution_count": 0,
      "outputs": []
    },
    {
      "cell_type": "markdown",
      "metadata": {
        "id": "vGlAyme6J9Yi",
        "colab_type": "text"
      },
      "source": [
        "## Load data from file"
      ]
    },
    {
      "cell_type": "code",
      "metadata": {
        "id": "ObnPzVM3KGRN",
        "colab_type": "code",
        "colab": {}
      },
      "source": [
        "def load_csv(filename):\n",
        "\tdataset = list()\n",
        "\twith open(filename, 'r') as file:\n",
        "\t\tcsv_reader = reader(file)\n",
        "\t\tfor row in csv_reader:\n",
        "\t\t\tif not row:\n",
        "\t\t\t\tcontinue\n",
        "\t\t\tdataset.append(row)\n",
        "\treturn dataset"
      ],
      "execution_count": 0,
      "outputs": []
    },
    {
      "cell_type": "markdown",
      "metadata": {
        "id": "a17LKK7DITms",
        "colab_type": "text"
      },
      "source": [
        "## Parse the data"
      ]
    },
    {
      "cell_type": "code",
      "metadata": {
        "id": "Bab7VXR6KOnW",
        "colab_type": "code",
        "colab": {}
      },
      "source": [
        "def str_column_to_float(dataset, column):\n",
        "\tfor row in dataset:\n",
        "\t\trow[column] = float(row[column].strip())"
      ],
      "execution_count": 0,
      "outputs": []
    },
    {
      "cell_type": "code",
      "metadata": {
        "id": "iK8y9CsfKYeR",
        "colab_type": "code",
        "colab": {}
      },
      "source": [
        "def str_column_to_int(dataset, column):\n",
        "\tclass_values = [row[column] for row in dataset]\n",
        "\tunique = set(class_values)\n",
        "\tlookup = dict()\n",
        "\tfor i, value in enumerate(unique):\n",
        "\t\tlookup[value] = i\n",
        "\t\tprint('[%s] => %d' % (value, i))\n",
        "\tfor row in dataset:\n",
        "\t\trow[column] = lookup[row[column]]\n",
        "\treturn lookup"
      ],
      "execution_count": 0,
      "outputs": []
    },
    {
      "cell_type": "code",
      "metadata": {
        "id": "T_OmLgZrITm0",
        "colab_type": "code",
        "colab": {}
      },
      "source": [
        "def separate_by_class(dataset):\n",
        "\tseparated = dict()\n",
        "\tfor i in range(len(dataset)):\n",
        "\t\tvector = dataset[i]\n",
        "\t\tclass_value = vector[-1]\n",
        "\t\tif (class_value not in separated):\n",
        "\t\t\tseparated[class_value] = list()\n",
        "\t\tseparated[class_value].append(vector)\n",
        "\treturn separated"
      ],
      "execution_count": 0,
      "outputs": []
    },
    {
      "cell_type": "markdown",
      "metadata": {
        "id": "jw0c9be1ITnS",
        "colab_type": "text"
      },
      "source": [
        "## Standard function to find the mean of a list of numbers"
      ]
    },
    {
      "cell_type": "code",
      "metadata": {
        "id": "UmSggxqXITnb",
        "colab_type": "code",
        "colab": {}
      },
      "source": [
        "def mean(numbers):\n",
        "\treturn sum(numbers)/float(len(numbers))"
      ],
      "execution_count": 0,
      "outputs": []
    },
    {
      "cell_type": "markdown",
      "metadata": {
        "id": "OSPYgVSRITn4",
        "colab_type": "text"
      },
      "source": [
        "## Standard function to find the standard deviation of a list of numbers"
      ]
    },
    {
      "cell_type": "code",
      "metadata": {
        "id": "so-NOBY3IToA",
        "colab_type": "code",
        "colab": {}
      },
      "source": [
        "def stdev(numbers):\n",
        "\tavg = mean(numbers)\n",
        "\tvariance = sum([(x-avg)**2 for x in numbers]) / float(len(numbers)-1)\n",
        "\treturn sqrt(variance)"
      ],
      "execution_count": 0,
      "outputs": []
    },
    {
      "cell_type": "markdown",
      "metadata": {
        "id": "cObOKzkMITob",
        "colab_type": "text"
      },
      "source": [
        "## Operate on the data in a non-destructive way and return basic statistics"
      ]
    },
    {
      "cell_type": "code",
      "metadata": {
        "id": "4Bgecr7nITok",
        "colab_type": "code",
        "colab": {}
      },
      "source": [
        "def summarize_dataset(dataset):\n",
        "\tsummaries = [(mean(column), stdev(column), len(column)) for column in zip(*dataset)]\n",
        "\tdel(summaries[-1])\n",
        "\treturn summaries"
      ],
      "execution_count": 0,
      "outputs": []
    },
    {
      "cell_type": "markdown",
      "metadata": {
        "id": "QBISCUCgITo8",
        "colab_type": "text"
      },
      "source": [
        "## Split the data into classes and run summarize_dataset"
      ]
    },
    {
      "cell_type": "code",
      "metadata": {
        "id": "3cZAj1a_ITpF",
        "colab_type": "code",
        "colab": {}
      },
      "source": [
        "def summarize_by_class(dataset):\n",
        "\tseparated = separate_by_class(dataset)\n",
        "\tsummaries = dict()\n",
        "\tfor class_value, rows in separated.items():\n",
        "\t\tsummaries[class_value] = summarize_dataset(rows)\n",
        "\treturn summaries"
      ],
      "execution_count": 0,
      "outputs": []
    },
    {
      "cell_type": "markdown",
      "metadata": {
        "id": "FzZyn6JZITpf",
        "colab_type": "text"
      },
      "source": [
        "## Find the probability for each item in the dataset."
      ]
    },
    {
      "cell_type": "code",
      "metadata": {
        "id": "Q3D2q3IhITpp",
        "colab_type": "code",
        "colab": {}
      },
      "source": [
        "def calculate_probability(x, mean, stdev):\n",
        "\texponent = exp(-((x-mean)**2 / (2 * stdev**2 )))\n",
        "\treturn (1 / (sqrt(2 * pi) * stdev)) * exponent"
      ],
      "execution_count": 0,
      "outputs": []
    },
    {
      "cell_type": "code",
      "metadata": {
        "id": "NN8KN9KzITp8",
        "colab_type": "code",
        "colab": {}
      },
      "source": [
        "def calculate_class_probabilities(summaries, row):\n",
        "\ttotal_rows = sum([summaries[label][0][2] for label in summaries])\n",
        "\tprobabilities = dict()\n",
        "\tfor class_value, class_summaries in summaries.items():\n",
        "\t\tprobabilities[class_value] = summaries[class_value][0][2]/float(total_rows)\n",
        "\t\tfor i in range(len(class_summaries)):\n",
        "\t\t\tmean, stdev, _ = class_summaries[i]\n",
        "\t\t\tprobabilities[class_value] *= calculate_probability(row[i], mean, stdev)\n",
        "\treturn probabilities"
      ],
      "execution_count": 0,
      "outputs": []
    },
    {
      "cell_type": "markdown",
      "metadata": {
        "id": "GOks2XDaLpVL",
        "colab_type": "text"
      },
      "source": [
        "## Prediction"
      ]
    },
    {
      "cell_type": "code",
      "metadata": {
        "id": "GmIT5f0FMA9X",
        "colab_type": "code",
        "colab": {}
      },
      "source": [
        "def predict(summaries, row):\n",
        "\tprobabilities = calculate_class_probabilities(summaries, row)\n",
        "\tbest_label, best_prob = None, -1\n",
        "\tfor class_value, probability in probabilities.items():\n",
        "\t\tif best_label is None or probability > best_prob:\n",
        "\t\t\tbest_prob = probability\n",
        "\t\t\tbest_label = class_value\n",
        "\treturn best_label"
      ],
      "execution_count": 0,
      "outputs": []
    },
    {
      "cell_type": "markdown",
      "metadata": {
        "id": "3TqIv4iBIbxd",
        "colab_type": "text"
      },
      "source": [
        "## Run The Code"
      ]
    },
    {
      "cell_type": "code",
      "metadata": {
        "id": "3zOqT8EZITqS",
        "colab_type": "code",
        "colab": {
          "base_uri": "https://localhost:8080/",
          "height": 86
        },
        "outputId": "ada0d046-9116-4492-a180-f2c346b19de8"
      },
      "source": [
        "filename = 'irisData.csv'\n",
        "dataset = load_csv(filename)\n",
        "for i in range(len(dataset[0])-1):\n",
        "\tstr_column_to_float(dataset, i)\n",
        "str_column_to_int(dataset, len(dataset[0])-1)\n",
        "model = summarize_by_class(dataset)\n",
        "row = [5.7,2.9,4.2,1.3]\n",
        "label = predict(model, row)\n",
        "print('Data=%s, Predicted: %s' % (row, label))"
      ],
      "execution_count": 15,
      "outputs": [
        {
          "output_type": "stream",
          "text": [
            "[Iris-virginica] => 0\n",
            "[Iris-setosa] => 1\n",
            "[Iris-versicolor] => 2\n",
            "Data=[5.7, 2.9, 4.2, 1.3], Predicted: 2\n"
          ],
          "name": "stdout"
        }
      ]
    }
  ]
}