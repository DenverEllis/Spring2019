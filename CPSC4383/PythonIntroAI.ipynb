{
 "cells": [
  {
   "cell_type": "raw",
   "metadata": {},
   "source": [
    "Normally, I would submit a document compiled by LaTeX containing my code and an explanation. However, since the assignment is with Python and requires little explanation, I will restrict myself to this notebook."
   ]
  },
  {
   "cell_type": "raw",
   "metadata": {},
   "source": [
    "1.Find out if the word ‘dog’ is in a string. [20 Points]"
   ]
  },
  {
   "cell_type": "code",
   "execution_count": 7,
   "metadata": {},
   "outputs": [],
   "source": [
    "assert(type(\"dog\") == str)"
   ]
  },
  {
   "cell_type": "raw",
   "metadata": {},
   "source": [
    "I will briefly explain my code above for this question alone. If the assertion is false, an exception is raised. The fact that the code does not raise an error means the assertion is true and \"dog\" is definitely a string (or a str). Below is just a demonstration of what happens when assert is false."
   ]
  },
  {
   "cell_type": "code",
   "execution_count": 8,
   "metadata": {},
   "outputs": [
    {
     "ename": "AssertionError",
     "evalue": "",
     "output_type": "error",
     "traceback": [
      "\u001b[0;31m---------------------------------------------------------------------------\u001b[0m",
      "\u001b[0;31mAssertionError\u001b[0m                            Traceback (most recent call last)",
      "\u001b[0;32m<ipython-input-8-e0924d515b29>\u001b[0m in \u001b[0;36m<module>\u001b[0;34m\u001b[0m\n\u001b[0;32m----> 1\u001b[0;31m \u001b[0;32massert\u001b[0m\u001b[0;34m(\u001b[0m\u001b[0mtype\u001b[0m\u001b[0;34m(\u001b[0m\u001b[0;34m\"dog\"\u001b[0m\u001b[0;34m)\u001b[0m \u001b[0;34m==\u001b[0m \u001b[0mint\u001b[0m\u001b[0;34m)\u001b[0m\u001b[0;34m\u001b[0m\u001b[0;34m\u001b[0m\u001b[0m\n\u001b[0m",
      "\u001b[0;31mAssertionError\u001b[0m: "
     ]
    }
   ],
   "source": [
    "assert(type(\"dog\") == int)"
   ]
  },
  {
   "cell_type": "raw",
   "metadata": {},
   "source": [
    "2.Write a python function that accepts a string and calculate the number of \n",
    "upper case letters and lower-case letters. [20 Points]"
   ]
  },
  {
   "cell_type": "code",
   "execution_count": 20,
   "metadata": {},
   "outputs": [
    {
     "name": "stdout",
     "output_type": "stream",
     "text": [
      "Number of lower-case letters: 3\n",
      "Number of upper-case letters: 2\n"
     ]
    },
    {
     "data": {
      "text/plain": [
       "(3, 2)"
      ]
     },
     "execution_count": 20,
     "metadata": {},
     "output_type": "execute_result"
    }
   ],
   "source": [
    "def analyzeString(letters):\n",
    "    countLower = 0\n",
    "    countUpper = 0\n",
    "    for c in letters:\n",
    "        if c.islower():\n",
    "            countLower+=1\n",
    "        elif c.isupper():\n",
    "            countUpper+=1\n",
    "            \n",
    "    print(\"Number of lower-case letters: \" + str(countLower))\n",
    "    print(\"Number of upper-case letters: \" + str(countUpper))\n",
    "    \n",
    "    #returns a tuple with both values in case it is needed for whatever reason\n",
    "    return (countLower, countUpper)\n",
    "\n",
    "analyzeString(\"Dog Go\")"
   ]
  },
  {
   "cell_type": "raw",
   "metadata": {},
   "source": [
    "3. Use a list comprehension to create a list of all numbers between 1 and 50 \n",
    "that are divisible by 3. [20 points]"
   ]
  },
  {
   "cell_type": "code",
   "execution_count": 34,
   "metadata": {},
   "outputs": [
    {
     "name": "stdout",
     "output_type": "stream",
     "text": [
      "[3, 6, 9, 12, 15, 18, 21, 24, 27, 30, 33, 36, 39, 42, 45, 48]\n"
     ]
    }
   ],
   "source": [
    "a = []\n",
    "for i in range(1,50):\n",
    "    if i%3 == 0:\n",
    "        a.append(i)\n",
    "    \n",
    "print(a)"
   ]
  },
  {
   "cell_type": "code",
   "execution_count": null,
   "metadata": {},
   "outputs": [],
   "source": []
  },
  {
   "cell_type": "code",
   "execution_count": null,
   "metadata": {},
   "outputs": [],
   "source": []
  }
 ],
 "metadata": {
  "kernelspec": {
   "display_name": "Python 3",
   "language": "python",
   "name": "python3"
  },
  "language_info": {
   "codemirror_mode": {
    "name": "ipython",
    "version": 3
   },
   "file_extension": ".py",
   "mimetype": "text/x-python",
   "name": "python",
   "nbconvert_exporter": "python",
   "pygments_lexer": "ipython3",
   "version": "3.7.4"
  }
 },
 "nbformat": 4,
 "nbformat_minor": 4
}
